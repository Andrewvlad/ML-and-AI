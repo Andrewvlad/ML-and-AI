{
  "nbformat": 4,
  "nbformat_minor": 0,
  "metadata": {
    "colab": {
      "name": "TicTacToe|Minimax with Alpha-Beta pruning",
      "provenance": [],
      "collapsed_sections": [],
      "toc_visible": true,
      "authorship_tag": "ABX9TyOWPfoYGEo9Fbmrjd4lRgXq",
      "include_colab_link": true
    },
    "kernelspec": {
      "name": "python3",
      "display_name": "Python 3"
    },
    "language_info": {
      "name": "python"
    }
  },
  "cells": [
    {
      "cell_type": "markdown",
      "metadata": {
        "id": "view-in-github",
        "colab_type": "text"
      },
      "source": [
        "<a href=\"https://colab.research.google.com/github/Andrewvlad/ML-and-AI/blob/main/TicTacToe%7CMinimax_with_Alpha_Beta_pruning.ipynb\" target=\"_parent\"><img src=\"https://colab.research.google.com/assets/colab-badge.svg\" alt=\"Open In Colab\"/></a>"
      ]
    },
    {
      "cell_type": "markdown",
      "metadata": {
        "id": "yYixYmJlJL6I"
      },
      "source": [
        "#Introduction:\n",
        "---\n",
        "This program uses Adversarial Search in order to emulate the popular game of \"Tic-Tac-Toe\", along with Alpha-Beta pruning to increase computational speed. "
      ]
    },
    {
      "cell_type": "markdown",
      "metadata": {
        "id": "e3GomuARLz0j"
      },
      "source": [
        "## Code"
      ]
    },
    {
      "cell_type": "code",
      "metadata": {
        "id": "QOJ8mO0NBFp1"
      },
      "source": [
        "import time\n",
        "\n",
        "board = [[[], [], []],\n",
        "         [[], [], []],\n",
        "         [[], [], []]]\n",
        "\n",
        "example_board = 'Positions:\\n| 1 | 2 | 3 |\\n| 4 | 5 | 6 |\\n| 7 | 8 | 9 |'\n",
        "\n",
        "board_string = '\\nCurrent Board: '\n",
        "input_string = 'Please make your move(1-9): '\n",
        "tie_string = 'It is a tie!'\n",
        "error_string = 'Error, please try again.'\n",
        "\n",
        "\n",
        "def print_board():\n",
        "    print(board_string)\n",
        "    for row in board:  #for each row \n",
        "        print(\"|\", end='')  #print a left edge \n",
        "        for item in range(0, 3):  #for each item in the row print the item and a right edge \n",
        "            print(' ' + str(row[item] if row[item] else ' ') + ' |', end='')  \n",
        "        print()  #print a new line at the end of the board \n",
        "\n",
        "\n",
        "def print_end():\n",
        "    print_board()  #print the final board \n",
        "    print(tie_string if check() == 'tie' else f'The winner is {check()}!')\n",
        "    for i in range(0, 9):  #for all spaces on the board \n",
        "        if board[i // 3][i % 3]:  #if the space is not empty \n",
        "            board[i // 3][i % 3] = []  #set the space to empty  \n",
        "\n",
        "def check():\n",
        "    for x in range(0, 3):  #check if any of the rows or diagonals have a winner \n",
        "        if board[x][0] and (board[x][0] == board[x][1] == board[x][2] or board[x][0] == board[1][1] == board[2 - x][2]):\n",
        "            return board[x][0]  #if there is a match, return the winner \n",
        "    for y in range(0, 3):  #check if any of the columns has a winner \n",
        "        if board[0][y] == board[1][y] == board[2][y] and board[0][y]:\n",
        "            return board[0][y]  #if there is a match, return the winner \n",
        "    for z in range(0, 9):  #for all spaces on the board \n",
        "        if not board[z // 3][z % 3]:  #check if there are still potential moves \n",
        "            return False  #if there are no winners and the game can go on, return False \n",
        "    return 'tie'  #if there are no more moves left, return a tie  \n",
        "\n",
        "\n",
        "def minimax(player='O', v=None, x=None):\n",
        "    result = check()  #check if the game is over \n",
        "    if result:  #if the game is over return the result of the game \n",
        "        return (3, 0) if result == 'O' else (2, 0) if result == 'tie' else (1, 0)\n",
        "\n",
        "    for i in range(0, 9):  #for all spaces on the board \n",
        "        if not board[i // 3][i % 3]:  #if the space is empty \n",
        "            board[i // 3][i % 3] = player  #set the space to the current player \n",
        "            if player == 'O':  #if player O's turn, find the best move for O \n",
        "                m, z = minimax('X')  #that minimizes X's chance to win \n",
        "                if not x or m > v:  #if its the best move so far \n",
        "                    v, x = m, i  #set v and x to m and i, respectively\n",
        "            else:  #if player X's turn, find the best move for X \n",
        "                m, z = minimax('O')  #that minimizes O's chance to win \n",
        "                if not x or m < v:  #if its the best move so far \n",
        "                    v, x = m, i  #set v and x to m and i, respectively\n",
        "            board[i // 3][i % 3] = []  #revert back the board to its previous state \n",
        "    return v, x  #return the best score and the best move \n",
        "\n",
        "\n",
        "def minimax_alpha_beta(player='O', alpha=None, beta=None, v=None, x=None):\n",
        "    result = check()  #check if the game is over \n",
        "    if result:  #if the game is over return the result of the game \n",
        "        return (3, 0) if result == 'O' else (2, 0) if result == 'tie' else (1, 0)\n",
        "\n",
        "    for i in range(0, 9):  #for all spaces on the board \n",
        "        if not board[i // 3][i % 3]:  #if the space is empty \n",
        "            board[i // 3][i % 3] = player  #set the space to the current player \n",
        "            if player == 'O':  #if player O's turn, find the best move for O\n",
        "                m = minimax_alpha_beta('X', alpha, beta)[0]  #that minimizes X's chance to win  \n",
        "                board[i // 3][i % 3] = []  #revert back the board to its previous state\n",
        "                if not v or m > v:  #if its the best move so far, \n",
        "                    v, x = m, i  #set v and x to m and i, respectively\n",
        "                if beta and v >= beta:  #if its as good or better than the best move,  \n",
        "                    return v, x  #return the move \n",
        "                if not alpha or v > alpha:  #if its not the best move, \n",
        "                    alpha = v  #set it as the alpha bar\n",
        "            else:  #if player X's turn, find the best move for X\n",
        "                m = minimax_alpha_beta('O', alpha, beta)[0]  #that minimizes O's chance to win \n",
        "                board[i // 3][i % 3] = []  #revert back the board to its previous state\n",
        "                if not v or m < v:  #if its the best move so far, \n",
        "                    v, x = m, i  #set v and x to m and i, respectively\n",
        "                if alpha and v <= alpha:  #if its as good or better than the best move,  \n",
        "                    return v, x  #return the move \n",
        "                if not beta or v < beta:  #if its not the best move, \n",
        "                    beta = v  #set it as the beta bar\n",
        "    return v, x  #return the best move\n",
        "\n",
        "\n",
        "def play():\n",
        "    print(example_board)\n",
        "    while not check():  #while the game isn't over \n",
        "        print_board()  #print the current board \n",
        "        while not move(int(input(input_string)) - 1, 'X'):  #ask user for a move \n",
        "            print(error_string)  #if move is not valid print error \n",
        "        start = time.time()  #start time for minimax \n",
        "        minimax()  #run minimax \n",
        "        print(f'Time with minimax: {round(time.time() - start, 8)}s')\n",
        "        start = time.time()  #start time for minimax w/o alpha-beta pruning \n",
        "        move(minimax_alpha_beta()[1], 'O')  #run minimax w/ alpha-beta pruning \n",
        "        print(f'Time with minimax with alpha-beta pruning: {round(time.time() - start, 8)}s')\n",
        "    print_end()  #print the results  \n",
        "\n",
        "\n",
        "def move(user_input, player):\n",
        "    if 0 <= user_input <= 8 and not board[user_input // 3][user_input % 3]:  #if move is valid, \n",
        "        board[user_input // 3][user_input % 3] = player  #add to the board\n",
        "        return True\n",
        "\n",
        "\n",
        "def main():\n",
        "    play()  #run the game \n",
        "    if (input('Would you like to play again (Y/N)? ') == 'Y'):  #while the user selects Y,\n",
        "        main()  #continue to play \n",
        "    "
      ],
      "execution_count": null,
      "outputs": []
    },
    {
      "cell_type": "markdown",
      "metadata": {
        "id": "ZzcSt350zQp8"
      },
      "source": [
        "Run Code:"
      ]
    },
    {
      "cell_type": "code",
      "metadata": {
        "id": "dpofRLPXLyif"
      },
      "source": [
        "main()"
      ],
      "execution_count": null,
      "outputs": []
    }
  ]
}